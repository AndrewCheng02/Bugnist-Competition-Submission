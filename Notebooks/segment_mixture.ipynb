{
 "cells": [
  {
   "cell_type": "code",
   "execution_count": 29,
   "metadata": {},
   "outputs": [],
   "source": [
    "import os\n",
    "import pandas as pd\n",
    "import numpy as np\n",
    "#from matplotlib import pyplot as plt\n",
    "from scipy import ndimage as ndi\n",
    "from skimage import (exposure, feature, filters, io, measure,\n",
    "                      morphology, restoration, segmentation, transform,\n",
    "                      util)\n",
    "import napari\n",
    "from sklearn.cluster import HDBSCAN\n",
    "from sklearn.mixture import BayesianGaussianMixture\n",
    "import shutil\n",
    "import tifffile"
   ]
  },
  {
   "cell_type": "code",
   "execution_count": 50,
   "metadata": {},
   "outputs": [
    {
     "name": "stdout",
     "output_type": "stream",
     "text": [
      "shape: (128, 92, 92)\n",
      "dtype: uint8\n",
      "range: (0, 249)\n"
     ]
    }
   ],
   "source": [
    "fp_starter = os.path.abspath('../') + '/'\n",
    "\n",
    "#load 1 raw bug\n",
    "#works for sure on mix_02_006.tif\n",
    "chosen_image = \"mix_02_006.tif\"\n",
    "bug = io.imread(fp_starter + 'BugNIST_DATA/validation/' + chosen_image)\n",
    "\n",
    "print(\"shape: {}\".format(bug.shape))\n",
    "print(\"dtype: {}\".format(bug.dtype))\n",
    "print(\"range: ({}, {})\".format(np.min(bug), np.max(bug)))"
   ]
  },
  {
   "cell_type": "code",
   "execution_count": 51,
   "metadata": {},
   "outputs": [],
   "source": [
    "#DataFrame with all given validation centerpoints \n",
    "valid_fp = fp_starter + 'BugNIST_DATA/validation/'\n",
    "\n",
    "valid_y = pd.read_csv(valid_fp+\"/validation.csv\")\n",
    "valid_y['bugs_present']=valid_y['centerpoints'].str.split(\";\").str[0::4]\n",
    "valid_y['n_bugs']=valid_y['centerpoints'].str.split(\";\").str[0::4].str.len()\n",
    "valid_y['z'] = valid_y['centerpoints'].str.split(\";\").str[1::4]\n",
    "valid_y['y'] = valid_y['centerpoints'].str.split(\";\").str[2::4]\n",
    "valid_y['x'] = valid_y['centerpoints'].str.split(\";\").str[3::4]\n",
    "valid_y['centerpoint_coords'] = valid_y.apply(lambda x: [[x['x'][i], x['y'][i], x['z'][i]] for i in range(len(x['x']))], axis=1)\n",
    "\n",
    "#grab centerpoints for chosen image\n",
    "validation_coordinates = [[float(y) for y in x] for x in valid_y[valid_y['filename']==chosen_image]['centerpoint_coords'].to_list()[0]]"
   ]
  },
  {
   "cell_type": "code",
   "execution_count": 52,
   "metadata": {},
   "outputs": [
    {
     "data": {
      "text/html": [
       "<div>\n",
       "<style scoped>\n",
       "    .dataframe tbody tr th:only-of-type {\n",
       "        vertical-align: middle;\n",
       "    }\n",
       "\n",
       "    .dataframe tbody tr th {\n",
       "        vertical-align: top;\n",
       "    }\n",
       "\n",
       "    .dataframe thead th {\n",
       "        text-align: right;\n",
       "    }\n",
       "</style>\n",
       "<table border=\"1\" class=\"dataframe\">\n",
       "  <thead>\n",
       "    <tr style=\"text-align: right;\">\n",
       "      <th></th>\n",
       "      <th>filename</th>\n",
       "      <th>centerpoints</th>\n",
       "      <th>bugs_present</th>\n",
       "      <th>n_bugs</th>\n",
       "      <th>z</th>\n",
       "      <th>y</th>\n",
       "      <th>x</th>\n",
       "      <th>centerpoint_coords</th>\n",
       "    </tr>\n",
       "  </thead>\n",
       "  <tbody>\n",
       "    <tr>\n",
       "      <th>0</th>\n",
       "      <td>mix_02_006.tif</td>\n",
       "      <td>bl;48.61;39.14;96.19;bl;77.71;53.14;57.17;pp;5...</td>\n",
       "      <td>[bl, bl, pp, pp, pp, pp, pp, bc, bc, bc]</td>\n",
       "      <td>10</td>\n",
       "      <td>[48.61, 77.71, 58.71, 48.42, 19.84, 22.67, 29....</td>\n",
       "      <td>[39.14, 53.14, 73.71, 45.33, 62.44, 30.00, 42....</td>\n",
       "      <td>[96.19, 57.17, 59.15, 51.75, 40.23, 53.13, 60....</td>\n",
       "      <td>[[96.19, 39.14, 48.61], [57.17, 53.14, 77.71],...</td>\n",
       "    </tr>\n",
       "    <tr>\n",
       "      <th>1</th>\n",
       "      <td>mix_02_011.tif</td>\n",
       "      <td>ml;77.86;46.26;57.79;sl;41.14;61.93;32.37;sl;5...</td>\n",
       "      <td>[ml, sl, sl, cf, cf, cf]</td>\n",
       "      <td>6</td>\n",
       "      <td>[77.86, 41.14, 56.09, 34.21, 52.70, 46.03]</td>\n",
       "      <td>[46.26, 61.93, 48.52, 70.82, 61.51, 15.26]</td>\n",
       "      <td>[57.79, 32.37, 56.20, 53.24, 44.71, 35.94]</td>\n",
       "      <td>[[57.79, 46.26, 77.86], [32.37, 61.93, 41.14],...</td>\n",
       "    </tr>\n",
       "    <tr>\n",
       "      <th>2</th>\n",
       "      <td>mix_03_001.tif</td>\n",
       "      <td>ml;54.20;34.58;81.43;ml;59.60;41.94;60.72;ml;4...</td>\n",
       "      <td>[ml, ml, ml, ml, ml, wo, wo, wo, wo, wo]</td>\n",
       "      <td>10</td>\n",
       "      <td>[54.20, 59.60, 40.53, 57.57, 26.76, 20.74, 41....</td>\n",
       "      <td>[34.58, 41.94, 41.62, 58.60, 65.45, 47.13, 24....</td>\n",
       "      <td>[81.43, 60.72, 71.55, 39.59, 55.51, 63.01, 44....</td>\n",
       "      <td>[[81.43, 34.58, 54.20], [60.72, 41.94, 59.60],...</td>\n",
       "    </tr>\n",
       "    <tr>\n",
       "      <th>3</th>\n",
       "      <td>mix_03_003.tif</td>\n",
       "      <td>wo;44.37;27.71;85.18;wo;30.04;28.46;58.76;wo;4...</td>\n",
       "      <td>[wo, wo, wo, wo, ml, ml, ml, bl, bl, bl, bl, b...</td>\n",
       "      <td>13</td>\n",
       "      <td>[44.37, 30.04, 46.50, 23.91, 57.88, 55.18, 33....</td>\n",
       "      <td>[27.71, 28.46, 55.14, 47.43, 26.24, 56.66, 44....</td>\n",
       "      <td>[85.18, 58.76, 96.45, 102.13, 60.98, 53.65, 56...</td>\n",
       "      <td>[[85.18, 27.71, 44.37], [58.76, 28.46, 30.04],...</td>\n",
       "    </tr>\n",
       "    <tr>\n",
       "      <th>4</th>\n",
       "      <td>mix_03_004.tif</td>\n",
       "      <td>pp;74.65;44.18;52.53;pp;30.69;25.53;54.51;pp;1...</td>\n",
       "      <td>[pp, pp, pp, pp, pp, pp, pp, bc, bc, cf, cf, c...</td>\n",
       "      <td>15</td>\n",
       "      <td>[74.65, 30.69, 16.61, 41.75, 55.04, 44.65, 28....</td>\n",
       "      <td>[44.18, 25.53, 48.47, 72.43, 61.95, 47.29, 50....</td>\n",
       "      <td>[52.53, 54.51, 62.38, 53.18, 48.09, 39.80, 52....</td>\n",
       "      <td>[[52.53, 44.18, 74.65], [54.51, 25.53, 30.69],...</td>\n",
       "    </tr>\n",
       "    <tr>\n",
       "      <th>...</th>\n",
       "      <td>...</td>\n",
       "      <td>...</td>\n",
       "      <td>...</td>\n",
       "      <td>...</td>\n",
       "      <td>...</td>\n",
       "      <td>...</td>\n",
       "      <td>...</td>\n",
       "      <td>...</td>\n",
       "    </tr>\n",
       "    <tr>\n",
       "      <th>73</th>\n",
       "      <td>mix_28_008.tif</td>\n",
       "      <td>ml;73.50;47.97;60.62;ml;30.65;24.54;75.91;ml;1...</td>\n",
       "      <td>[ml, ml, ml, ml, bc, bc, bc, bc, bc]</td>\n",
       "      <td>9</td>\n",
       "      <td>[73.50, 30.65, 17.95, 38.39, 53.40, 26.39, 60....</td>\n",
       "      <td>[47.97, 24.54, 60.56, 43.09, 18.45, 39.16, 64....</td>\n",
       "      <td>[60.62, 75.91, 87.30, 45.11, 78.67, 30.37, 16....</td>\n",
       "      <td>[[60.62, 47.97, 73.50], [75.91, 24.54, 30.65],...</td>\n",
       "    </tr>\n",
       "    <tr>\n",
       "      <th>74</th>\n",
       "      <td>mix_28_011.tif</td>\n",
       "      <td>cf;67.69;69.75;38.29;cf;46.78;25.38;42.34;ma;5...</td>\n",
       "      <td>[cf, cf, ma, ma, bc, bc, bc, bc]</td>\n",
       "      <td>8</td>\n",
       "      <td>[67.69, 46.78, 51.28, 36.34, 25.87, 42.58, 20....</td>\n",
       "      <td>[69.75, 25.38, 66.45, 25.32, 41.03, 23.14, 46....</td>\n",
       "      <td>[38.29, 42.34, 39.66, 62.78, 70.77, 74.99, 54....</td>\n",
       "      <td>[[38.29, 69.75, 67.69], [42.34, 25.38, 46.78],...</td>\n",
       "    </tr>\n",
       "    <tr>\n",
       "      <th>75</th>\n",
       "      <td>mix_29_005.tif</td>\n",
       "      <td>bf;72.06;58.57;38.59;bf;48.71;29.59;47.57;bf;3...</td>\n",
       "      <td>[bf, bf, bf, ma, ma, bp, bp, bp, bp]</td>\n",
       "      <td>9</td>\n",
       "      <td>[72.06, 48.71, 32.49, 65.23, 48.57, 50.01, 24....</td>\n",
       "      <td>[58.57, 29.59, 37.20, 45.02, 22.79, 43.96, 59....</td>\n",
       "      <td>[38.59, 47.57, 57.90, 72.38, 73.63, 15.60, 14....</td>\n",
       "      <td>[[38.59, 58.57, 72.06], [47.57, 29.59, 48.71],...</td>\n",
       "    </tr>\n",
       "    <tr>\n",
       "      <th>76</th>\n",
       "      <td>mix_29_009.tif</td>\n",
       "      <td>ml;42.26;26.99;48.13;ml;58.60;25.86;42.10;ml;5...</td>\n",
       "      <td>[ml, ml, ml, ml, ml, sl, sl, sl, sl, bl, bl, b...</td>\n",
       "      <td>17</td>\n",
       "      <td>[42.26, 58.60, 50.53, 36.79, 59.78, 49.66, 30....</td>\n",
       "      <td>[26.99, 25.86, 42.58, 50.87, 59.27, 76.17, 69....</td>\n",
       "      <td>[48.13, 42.10, 47.10, 41.22, 46.91, 60.35, 67....</td>\n",
       "      <td>[[48.13, 26.99, 42.26], [42.10, 25.86, 58.60],...</td>\n",
       "    </tr>\n",
       "    <tr>\n",
       "      <th>77</th>\n",
       "      <td>mix_30_002.tif</td>\n",
       "      <td>cf;47.16;74.19;43.14;cf;49.94;20.82;78.99;cf;3...</td>\n",
       "      <td>[cf, cf, cf, cf, ma, ma, ma, bc, bc, bc, bc, bc]</td>\n",
       "      <td>12</td>\n",
       "      <td>[47.16, 49.94, 31.13, 17.09, 30.40, 42.08, 53....</td>\n",
       "      <td>[74.19, 20.82, 54.91, 43.24, 45.62, 64.87, 51....</td>\n",
       "      <td>[43.14, 78.99, 38.13, 62.26, 72.08, 53.49, 53....</td>\n",
       "      <td>[[43.14, 74.19, 47.16], [78.99, 20.82, 49.94],...</td>\n",
       "    </tr>\n",
       "  </tbody>\n",
       "</table>\n",
       "<p>78 rows × 8 columns</p>\n",
       "</div>"
      ],
      "text/plain": [
       "          filename                                       centerpoints  \\\n",
       "0   mix_02_006.tif  bl;48.61;39.14;96.19;bl;77.71;53.14;57.17;pp;5...   \n",
       "1   mix_02_011.tif  ml;77.86;46.26;57.79;sl;41.14;61.93;32.37;sl;5...   \n",
       "2   mix_03_001.tif  ml;54.20;34.58;81.43;ml;59.60;41.94;60.72;ml;4...   \n",
       "3   mix_03_003.tif  wo;44.37;27.71;85.18;wo;30.04;28.46;58.76;wo;4...   \n",
       "4   mix_03_004.tif  pp;74.65;44.18;52.53;pp;30.69;25.53;54.51;pp;1...   \n",
       "..             ...                                                ...   \n",
       "73  mix_28_008.tif  ml;73.50;47.97;60.62;ml;30.65;24.54;75.91;ml;1...   \n",
       "74  mix_28_011.tif  cf;67.69;69.75;38.29;cf;46.78;25.38;42.34;ma;5...   \n",
       "75  mix_29_005.tif  bf;72.06;58.57;38.59;bf;48.71;29.59;47.57;bf;3...   \n",
       "76  mix_29_009.tif  ml;42.26;26.99;48.13;ml;58.60;25.86;42.10;ml;5...   \n",
       "77  mix_30_002.tif  cf;47.16;74.19;43.14;cf;49.94;20.82;78.99;cf;3...   \n",
       "\n",
       "                                         bugs_present  n_bugs  \\\n",
       "0            [bl, bl, pp, pp, pp, pp, pp, bc, bc, bc]      10   \n",
       "1                            [ml, sl, sl, cf, cf, cf]       6   \n",
       "2            [ml, ml, ml, ml, ml, wo, wo, wo, wo, wo]      10   \n",
       "3   [wo, wo, wo, wo, ml, ml, ml, bl, bl, bl, bl, b...      13   \n",
       "4   [pp, pp, pp, pp, pp, pp, pp, bc, bc, cf, cf, c...      15   \n",
       "..                                                ...     ...   \n",
       "73               [ml, ml, ml, ml, bc, bc, bc, bc, bc]       9   \n",
       "74                   [cf, cf, ma, ma, bc, bc, bc, bc]       8   \n",
       "75               [bf, bf, bf, ma, ma, bp, bp, bp, bp]       9   \n",
       "76  [ml, ml, ml, ml, ml, sl, sl, sl, sl, bl, bl, b...      17   \n",
       "77   [cf, cf, cf, cf, ma, ma, ma, bc, bc, bc, bc, bc]      12   \n",
       "\n",
       "                                                    z  \\\n",
       "0   [48.61, 77.71, 58.71, 48.42, 19.84, 22.67, 29....   \n",
       "1          [77.86, 41.14, 56.09, 34.21, 52.70, 46.03]   \n",
       "2   [54.20, 59.60, 40.53, 57.57, 26.76, 20.74, 41....   \n",
       "3   [44.37, 30.04, 46.50, 23.91, 57.88, 55.18, 33....   \n",
       "4   [74.65, 30.69, 16.61, 41.75, 55.04, 44.65, 28....   \n",
       "..                                                ...   \n",
       "73  [73.50, 30.65, 17.95, 38.39, 53.40, 26.39, 60....   \n",
       "74  [67.69, 46.78, 51.28, 36.34, 25.87, 42.58, 20....   \n",
       "75  [72.06, 48.71, 32.49, 65.23, 48.57, 50.01, 24....   \n",
       "76  [42.26, 58.60, 50.53, 36.79, 59.78, 49.66, 30....   \n",
       "77  [47.16, 49.94, 31.13, 17.09, 30.40, 42.08, 53....   \n",
       "\n",
       "                                                    y  \\\n",
       "0   [39.14, 53.14, 73.71, 45.33, 62.44, 30.00, 42....   \n",
       "1          [46.26, 61.93, 48.52, 70.82, 61.51, 15.26]   \n",
       "2   [34.58, 41.94, 41.62, 58.60, 65.45, 47.13, 24....   \n",
       "3   [27.71, 28.46, 55.14, 47.43, 26.24, 56.66, 44....   \n",
       "4   [44.18, 25.53, 48.47, 72.43, 61.95, 47.29, 50....   \n",
       "..                                                ...   \n",
       "73  [47.97, 24.54, 60.56, 43.09, 18.45, 39.16, 64....   \n",
       "74  [69.75, 25.38, 66.45, 25.32, 41.03, 23.14, 46....   \n",
       "75  [58.57, 29.59, 37.20, 45.02, 22.79, 43.96, 59....   \n",
       "76  [26.99, 25.86, 42.58, 50.87, 59.27, 76.17, 69....   \n",
       "77  [74.19, 20.82, 54.91, 43.24, 45.62, 64.87, 51....   \n",
       "\n",
       "                                                    x  \\\n",
       "0   [96.19, 57.17, 59.15, 51.75, 40.23, 53.13, 60....   \n",
       "1          [57.79, 32.37, 56.20, 53.24, 44.71, 35.94]   \n",
       "2   [81.43, 60.72, 71.55, 39.59, 55.51, 63.01, 44....   \n",
       "3   [85.18, 58.76, 96.45, 102.13, 60.98, 53.65, 56...   \n",
       "4   [52.53, 54.51, 62.38, 53.18, 48.09, 39.80, 52....   \n",
       "..                                                ...   \n",
       "73  [60.62, 75.91, 87.30, 45.11, 78.67, 30.37, 16....   \n",
       "74  [38.29, 42.34, 39.66, 62.78, 70.77, 74.99, 54....   \n",
       "75  [38.59, 47.57, 57.90, 72.38, 73.63, 15.60, 14....   \n",
       "76  [48.13, 42.10, 47.10, 41.22, 46.91, 60.35, 67....   \n",
       "77  [43.14, 78.99, 38.13, 62.26, 72.08, 53.49, 53....   \n",
       "\n",
       "                                   centerpoint_coords  \n",
       "0   [[96.19, 39.14, 48.61], [57.17, 53.14, 77.71],...  \n",
       "1   [[57.79, 46.26, 77.86], [32.37, 61.93, 41.14],...  \n",
       "2   [[81.43, 34.58, 54.20], [60.72, 41.94, 59.60],...  \n",
       "3   [[85.18, 27.71, 44.37], [58.76, 28.46, 30.04],...  \n",
       "4   [[52.53, 44.18, 74.65], [54.51, 25.53, 30.69],...  \n",
       "..                                                ...  \n",
       "73  [[60.62, 47.97, 73.50], [75.91, 24.54, 30.65],...  \n",
       "74  [[38.29, 69.75, 67.69], [42.34, 25.38, 46.78],...  \n",
       "75  [[38.59, 58.57, 72.06], [47.57, 29.59, 48.71],...  \n",
       "76  [[48.13, 26.99, 42.26], [42.10, 25.86, 58.60],...  \n",
       "77  [[43.14, 74.19, 47.16], [78.99, 20.82, 49.94],...  \n",
       "\n",
       "[78 rows x 8 columns]"
      ]
     },
     "execution_count": 52,
     "metadata": {},
     "output_type": "execute_result"
    }
   ],
   "source": [
    "valid_y"
   ]
  },
  {
   "cell_type": "code",
   "execution_count": 53,
   "metadata": {},
   "outputs": [
    {
     "data": {
      "text/plain": [
       "<Labels layer 'bug [1]' at 0x7fdaa000cb80>"
      ]
     },
     "execution_count": 53,
     "metadata": {},
     "output_type": "execute_result"
    }
   ],
   "source": [
    "#view bug and centerpoints in napari\n",
    "\n",
    "viewer = napari.view_image(\n",
    "    bug,\n",
    "    #contrast_limits=[0, 1],\n",
    "    #scale=spacing, [TODO] look up size of imaging to see if it improves bug insides\n",
    "    ndisplay=3,\n",
    ")\n",
    "\n",
    "viewer.add_points(\n",
    "    [[float(y) for y in x] for x in valid_y[valid_y['filename']=='mix_02_006.tif']['centerpoint_coords'][0]],\n",
    "    ndim=3,\n",
    "    name='validation centerpoints',\n",
    "    #scale=spacing,\n",
    "    size=4,\n",
    "    n_dimensional=True, \n",
    "    edge_color='red'\n",
    ")\n",
    "\n",
    "viewer.add_labels(\n",
    "    bug\n",
    ")\n"
   ]
  },
  {
   "cell_type": "code",
   "execution_count": 54,
   "metadata": {},
   "outputs": [
    {
     "data": {
      "text/plain": [
       "<Image layer 'edges' at 0x7fdb250ea2b0>"
      ]
     },
     "execution_count": 54,
     "metadata": {},
     "output_type": "execute_result"
    }
   ],
   "source": [
    "#Edge Detection\n",
    "edges = filters.scharr(bug) #[TODO] look into other filters\n",
    "## scharr seems to be best filter\n",
    "#edges = filters.sobel(bug)\n",
    "\n",
    "\n",
    "viewer.add_image(\n",
    "    edges,\n",
    "    #scale=spacing,\n",
    "    blending='additive',\n",
    "    colormap='magenta',\n",
    ")\n"
   ]
  },
  {
   "cell_type": "code",
   "execution_count": 55,
   "metadata": {},
   "outputs": [
    {
     "data": {
      "text/plain": [
       "<Image layer 'thresholded' at 0x7fdaf03295e0>"
      ]
     },
     "execution_count": 55,
     "metadata": {},
     "output_type": "execute_result"
    }
   ],
   "source": [
    "#Thresholding\n",
    "#Separate bugs from the background\n",
    "\n",
    "## 3 was way too much smoothing, 1 too little\n",
    "denoised = ndi.median_filter(bug, size=2) #smoothing technique\n",
    "#thresholded = denoised > filters.threshold_li(denoised) #[TODO] try different thresholding techniques\n",
    "thresholded = denoised > filters.threshold_otsu(denoised)\n",
    "\n",
    "\n",
    "viewer.add_image(\n",
    "    thresholded,\n",
    "    #scale=spacing,\n",
    "    opacity=0.3,\n",
    ")\n"
   ]
  },
  {
   "cell_type": "code",
   "execution_count": 56,
   "metadata": {},
   "outputs": [],
   "source": [
    "inds = np.where(~thresholded)\n",
    "thresholded[inds] = 0.\n",
    "mask = ndi.binary_erosion(thresholded, morphology.ball(1), iterations=1)\n",
    "viewer.add_image(\n",
    "    mask,\n",
    "    name='cleaned',\n",
    "    #scale=spacing,\n",
    "    opacity=0.3,\n",
    ");\n"
   ]
  },
  {
   "cell_type": "code",
   "execution_count": 57,
   "metadata": {},
   "outputs": [],
   "source": [
    "#Morphology\n",
    "#Grab the areas surrounding each bug and smooth them\n",
    "width = 20\n",
    "\n",
    "remove_holes = morphology.remove_small_holes(\n",
    "    thresholded, \n",
    "    width\n",
    ")\n",
    "#[TODO] this may end up removing some bugs, need to test\n",
    "remove_objects = morphology.remove_small_objects(\n",
    "    remove_holes, \n",
    "    width ** 2,\n",
    "    connectivity=2\n",
    ")\n",
    "\n",
    "\n",
    "viewer.add_image(\n",
    "    remove_objects,\n",
    "    name='cleaned',\n",
    "    #scale=spacing,\n",
    "    opacity=0.3,\n",
    ");\n"
   ]
  },
  {
   "cell_type": "code",
   "execution_count": 58,
   "metadata": {},
   "outputs": [
    {
     "data": {
      "text/plain": [
       "\"\\nlabels = measure.label(remove_objects)\\n\\nviewer.add_labels(\\n    labels,\\n    #scale=spacing,\\n    opacity=0.5,\\n)\\n\\nviewer.layers['cleaned'].visible = False\\n\""
      ]
     },
     "execution_count": 58,
     "metadata": {},
     "output_type": "execute_result"
    }
   ],
   "source": [
    "#labels connected regions -> good for andrews masks\n",
    "\"\"\"\n",
    "labels = measure.label(remove_objects)\n",
    "\n",
    "viewer.add_labels(\n",
    "    labels,\n",
    "    #scale=spacing,\n",
    "    opacity=0.5,\n",
    ")\n",
    "\n",
    "viewer.layers['cleaned'].visible = False\n",
    "\"\"\""
   ]
  },
  {
   "cell_type": "code",
   "execution_count": 59,
   "metadata": {},
   "outputs": [
    {
     "data": {
      "text/plain": [
       "'\\nviewer.add_points(\\n    np.transpose(np.nonzero(transformed)),\\n    name=\\'all insides\\',\\n    #scale=spacing,\\n    size=1,\\n    n_dimensional=True,  # points have 3D \"extent\"\\n)\\n'"
      ]
     },
     "execution_count": 59,
     "metadata": {},
     "output_type": "execute_result"
    }
   ],
   "source": [
    "#Identify insides of bugs\n",
    "#find the points farthest from the edges\n",
    "\n",
    "#euclidian distance from outside to inside to find points furthest inside - think heatmap\n",
    "transformed = ndi.distance_transform_edt(remove_objects)#, sampling=spacing)\n",
    "\n",
    "#max grabbing techniques\n",
    "maxima = morphology.local_maxima(transformed, footprint=morphology.ball(1)) # grabs lots more max's\n",
    "#maxima = morphology.h_maxima(transformed, 1) #anything higher than 1 missed small bugs\n",
    "\n",
    "#grab all chosen max\n",
    "maxima_coords = np.transpose(np.nonzero(maxima))\n",
    "#or grab all inner points\n",
    "transformed_coords = np.transpose(np.nonzero(transformed))\n",
    "\n",
    "\"\"\"\n",
    "viewer.add_points(\n",
    "    np.transpose(np.nonzero(transformed)),\n",
    "    name='all insides',\n",
    "    #scale=spacing,\n",
    "    size=1,\n",
    "    n_dimensional=True,  # points have 3D \"extent\"\n",
    ")\n",
    "\"\"\""
   ]
  },
  {
   "cell_type": "code",
   "execution_count": 60,
   "metadata": {},
   "outputs": [
    {
     "data": {
      "text/plain": [
       "'2 2 15 manhattan'"
      ]
     },
     "execution_count": 60,
     "metadata": {},
     "output_type": "execute_result"
    }
   ],
   "source": [
    "'canberra', 'euclidean', 'mahalanobis', 'manhattan', 'chebyshev', 'rogerstanimoto', \n",
    "'infinity', 'jaccard', 'sokalmichener', 'braycurtis', 'pyfunc', 'l2', 'russellrao', \n",
    "'cityblock', 'haversine', 'minkowski', 'sokalsneath', 'hamming', 'precomputed', 'dice', \n",
    "'seuclidean', 'l1', 'p'\n",
    "\n",
    "\"\"\"2 2 15 manhattan\"\"\"\n"
   ]
  },
  {
   "cell_type": "code",
   "execution_count": 61,
   "metadata": {},
   "outputs": [
    {
     "data": {
      "text/plain": [
       "<Points layer 'HDBSCAN 2 2 10 manhattan' at 0x7fdb251572e0>"
      ]
     },
     "execution_count": 61,
     "metadata": {},
     "output_type": "execute_result"
    }
   ],
   "source": [
    "#Higherarchical Clustering \n",
    "#Cluster the inside points and average to find points to intialize watershed\n",
    "\n",
    "mincs = 2\n",
    "minsa = 2\n",
    "csele = 10\n",
    "metri = 'manhattan'\n",
    "\n",
    "model = HDBSCAN(\n",
    "    min_cluster_size=mincs,             #min number of points in a cluster\n",
    "    min_samples=minsa,                  #amount of points that can be considered start of cluster\n",
    "    cluster_selection_epsilon=csele,   #clusters closer than this get merged\n",
    "    store_centers=\"centroid\",\n",
    "    cluster_selection_method=\"leaf\", ##not sure why this better\n",
    "    metric=metri\n",
    ")\n",
    "model.fit(\n",
    "    np.transpose(np.nonzero(maxima))    \n",
    ")\n",
    "centers = model.centroids_.astype(int)\n",
    "\"\"\"\n",
    "center_of_cluster = []\n",
    "for clust in np.unique(clusters):\n",
    "    center_of_cluster += [np.mean(np.transpose(np.nonzero(maxima))[clusters==clust], axis=0)]\n",
    "center_of_cluster\n",
    "\"\"\"\n",
    "\n",
    "viewer.add_points(\n",
    "    centers,\n",
    "    name='HDBSCAN ' + str(mincs) + \" \" + str(minsa) + \" \" + str(csele) + \" \" + metri,\n",
    "    #scale=spacing,\n",
    "    size=4,\n",
    "    n_dimensional=True,  # points have 3D \"extent\"\n",
    "    edge_color = \"yellow\",\n",
    "    blending=\"translucent_no_depth\"\n",
    ")\n",
    "\n"
   ]
  },
  {
   "cell_type": "code",
   "execution_count": 62,
   "metadata": {},
   "outputs": [
    {
     "data": {
      "text/plain": [
       "(40,\n",
       " 0    10\n",
       " Name: n_bugs, dtype: int64)"
      ]
     },
     "execution_count": 62,
     "metadata": {},
     "output_type": "execute_result"
    }
   ],
   "source": [
    "(valid_y[\"n_bugs\"].max(),\n",
    "valid_y[valid_y[\"filename\"]==chosen_image][\"n_bugs\"])"
   ]
  },
  {
   "cell_type": "code",
   "execution_count": 45,
   "metadata": {},
   "outputs": [],
   "source": [
    "from vispy.color.colormap import HSL"
   ]
  },
  {
   "cell_type": "code",
   "execution_count": 46,
   "metadata": {},
   "outputs": [
    {
     "name": "stderr",
     "output_type": "stream",
     "text": [
      "/Users/andrewcheng/opt/anaconda3/lib/python3.9/site-packages/sklearn/mixture/_base.py:268: ConvergenceWarning: Initialization 1 did not converge. Try different init parameters, or increase max_iter, tol or check for degenerate data.\n",
      "  warnings.warn(\n"
     ]
    },
    {
     "ename": "NameError",
     "evalue": "name 'classified_points' is not defined",
     "output_type": "error",
     "traceback": [
      "\u001b[0;31m---------------------------------------------------------------------------\u001b[0m",
      "\u001b[0;31mNameError\u001b[0m                                 Traceback (most recent call last)",
      "Cell \u001b[0;32mIn[46], line 67\u001b[0m\n\u001b[1;32m     62\u001b[0m \u001b[38;5;66;03m#colored_points.edge_color_mode = 'colormap'\u001b[39;00m\n\u001b[1;32m     63\u001b[0m \u001b[38;5;66;03m#colored_points.edge_colormap = HSL(ncolors=50)\u001b[39;00m\n\u001b[1;32m     64\u001b[0m \u001b[38;5;66;03m#colored_points.edge_color = mixtures.astype(int)\u001b[39;00m\n\u001b[1;32m     66\u001b[0m mixtures, \u001b[38;5;28mlen\u001b[39m(np\u001b[38;5;241m.\u001b[39munique(mixtures))\n\u001b[0;32m---> 67\u001b[0m np\u001b[38;5;241m.\u001b[39munique(\u001b[43mclassified_points\u001b[49m)\n",
      "\u001b[0;31mNameError\u001b[0m: name 'classified_points' is not defined"
     ]
    }
   ],
   "source": [
    "#Bayesian Gaussian Mixture\n",
    "#seems better for getting entire bug instead of splitting, but still connects bugs together\n",
    "#doesnt work with all possible bug points, max better\n",
    "\n",
    "#aproximate gaussians for an unknown number of bugs\n",
    "#https://scikit-learn.org/stable/modules/generated/sklearn.mixture.BayesianGaussianMixture.html#sklearn.mixture.BayesianGaussianMixture\n",
    "#https://scikit-learn.org/stable/auto_examples/mixture/plot_concentration_prior.html#sphx-glr-auto-examples-mixture-plot-concentration-prior-py\n",
    "\n",
    "mixtures = BayesianGaussianMixture(\n",
    "    n_components=min(len(maxima_coords), 50),\n",
    "    covariance_type='tied',\n",
    "    tol=1e-3,\n",
    "    reg_covar=0,\n",
    "    #max_iter=1500,\n",
    "    init_params=\"random\",  #get random points instead of kmeans (wont cluster well)\n",
    "    weight_concentration_prior_type=\"dirichlet_process\",\n",
    "    weight_concentration_prior=10000,\n",
    "    mean_precision_prior=0.01,\n",
    ").fit_predict(maxima_coords)\n",
    "\n",
    "center_of_mix = []\n",
    "for mix in np.unique(mixtures):\n",
    "    center_of_mix += [np.mean(maxima_coords[mixtures==mix], axis=0)]\n",
    "center_of_mix\n",
    "\n",
    "viewer.add_points(\n",
    "    center_of_mix,\n",
    "    name='gaussian centers',\n",
    "    #scale=spacing,\n",
    "    size=4,\n",
    "    n_dimensional=True,  # points have 3D \"extent\"\n",
    "    edge_color = \"yellow\",\n",
    "    blending=\"translucent_no_depth\"\n",
    ")\n",
    "\n",
    "\"\"\"\n",
    "classified_points = np.zeros(bug.shape)\n",
    "for i in range(len(mixtures)):\n",
    "    classified_points[maxima_coords[i][0]][maxima_coords[i][1]][maxima_coords[i][2]] = mixtures[i]\n",
    "\n",
    "\n",
    "classified_points = []\n",
    "for curr_mix in np.unique(mixtures):\n",
    "    classified_points += np.transpose(np.nonzero(maxima))[mixtures==curr_mix]\n",
    "classified_points\n",
    "\"\"\"\n",
    "features = {\n",
    "    'mixture_colors': mixtures/50,\n",
    "}\n",
    "colored_points = viewer.add_points(\n",
    "    maxima_coords,\n",
    "    name='Gaussian outputs',\n",
    "    features=features,\n",
    "    #scale=spacing,\n",
    "    size=4,\n",
    "    n_dimensional=True,  # points have 3D \"extent\"\n",
    "    face_color = 'mixture_colors',\n",
    "    face_colormap = HSL(ncolors=50),\n",
    "    blending=\"translucent_no_depth\"\n",
    ")\n",
    "\n",
    "#colored_points.edge_color_mode = 'colormap'\n",
    "#colored_points.edge_colormap = HSL(ncolors=50)\n",
    "#colored_points.edge_color = mixtures.astype(int)\n",
    "\n",
    "mixtures, len(np.unique(mixtures))\n",
    "np.unique(classified_points)"
   ]
  },
  {
   "cell_type": "code",
   "execution_count": 17,
   "metadata": {},
   "outputs": [
    {
     "data": {
      "text/plain": [
       "\"\\nfrom scipy.cluster.hierarchy import average, fcluster, fclusterdata\\n\\n#create condensed distance matrix\\ny = pdist(np.transpose(np.nonzero(maxima)))\\n#perform clustering using average linkage\\nZ = average(y)\\n#data, threshold, criterion\\nfclusterdata(Z, 1, criterion='inconsistent')\\n\""
      ]
     },
     "execution_count": 17,
     "metadata": {},
     "output_type": "execute_result"
    }
   ],
   "source": [
    "#clusterting attempt:\n",
    "#distance matrix from key points\n",
    "\"\"\"\n",
    "from scipy.cluster.hierarchy import average, fcluster, fclusterdata\n",
    "\n",
    "#create condensed distance matrix\n",
    "y = pdist(np.transpose(np.nonzero(maxima)))\n",
    "#perform clustering using average linkage\n",
    "Z = average(y)\n",
    "#data, threshold, criterion\n",
    "fclusterdata(Z, 1, criterion='inconsistent')\n",
    "\"\"\""
   ]
  },
  {
   "cell_type": "code",
   "execution_count": 18,
   "metadata": {},
   "outputs": [
    {
     "data": {
      "text/plain": [
       "'\\nfrom scipy.spatial.distance import pdist\\n\\ntransformed = ndi.distance_transform_edt(remove_objects)#, sampling=spacing)\\n\\nmaxima = feature.corner_peaks(transformed, min_distance=int(0.2*width), p_norm=1)\\nviewer.add_points(\\n    maxima,\\n    name=\\'local max points\\',\\n    #scale=spacing,\\n    size=4,\\n    n_dimensional=True,  # points have 3D \"extent\"\\n    edge_color = \"blue\"\\n)\\n\\nfeature.peak_local_max(transformed, min_distance=width//2)\\n'"
      ]
     },
     "execution_count": 18,
     "metadata": {},
     "output_type": "execute_result"
    }
   ],
   "source": [
    "#Clustering attempt:\n",
    "#find local maxima of distance from edges\n",
    "\"\"\"\n",
    "from scipy.spatial.distance import pdist\n",
    "\n",
    "transformed = ndi.distance_transform_edt(remove_objects)#, sampling=spacing)\n",
    "\n",
    "maxima = feature.corner_peaks(transformed, min_distance=int(0.2*width), p_norm=1)\n",
    "viewer.add_points(\n",
    "    maxima,\n",
    "    name='local max points',\n",
    "    #scale=spacing,\n",
    "    size=4,\n",
    "    n_dimensional=True,  # points have 3D \"extent\"\n",
    "    edge_color = \"blue\"\n",
    ")\n",
    "\n",
    "feature.peak_local_max(transformed, min_distance=width//2)\n",
    "\"\"\""
   ]
  },
  {
   "cell_type": "code",
   "execution_count": 19,
   "metadata": {},
   "outputs": [
    {
     "data": {
      "text/plain": [
       "<Labels layer 'segmented' at 0x7fdac03e8d30>"
      ]
     },
     "execution_count": 19,
     "metadata": {},
     "output_type": "execute_result"
    }
   ],
   "source": [
    "#Watershed\n",
    "#create a matrix like image with zeroes except for centroids\n",
    "markers = np.zeros(bug.shape, dtype=np.uint32)\n",
    "marker_indices = tuple(np.round(centers).astype(int).T)\n",
    "markers[marker_indices] = np.arange(len(centers)) + 1\n",
    "#grow the corresponding centroids\n",
    "markers_big = morphology.dilation(markers, morphology.ball(5))\n",
    "\n",
    "#Segment using Watershed from clustered centers\n",
    "segmented = segmentation.watershed(\n",
    "    edges,\n",
    "    markers_big,\n",
    "    compactness=0.1, ##grabs more distinct bugs from wshed but cuts bugs\n",
    "    mask=remove_objects,\n",
    ")\n",
    "\"\"\"\n",
    "walk_segmented = segmentation.random_walker(\n",
    "    remove_objects, markers_big\n",
    ")\n",
    "\"\"\"\n",
    "\"\"\"\n",
    "viewer = napari.view_image(\n",
    "    remove_objects,\n",
    "    #contrast_limits=[0, 1],\n",
    "    #scale=spacing,\n",
    "    ndisplay=3,\n",
    ")\n",
    "\"\"\"\n",
    "viewer.add_labels(\n",
    "    segmented,\n",
    "    #scale=spacing,\n",
    ")\n"
   ]
  },
  {
   "cell_type": "code",
   "execution_count": 20,
   "metadata": {},
   "outputs": [
    {
     "data": {
      "text/plain": [
       "array([0, 1, 2, 3, 4, 5, 6, 7, 8], dtype=int32)"
      ]
     },
     "execution_count": 20,
     "metadata": {},
     "output_type": "execute_result"
    }
   ],
   "source": [
    "np.unique(segmented)"
   ]
  },
  {
   "cell_type": "code",
   "execution_count": 21,
   "metadata": {},
   "outputs": [
    {
     "data": {
      "text/plain": [
       "array([1, 2, 3, 4, 5, 6, 7, 8])"
      ]
     },
     "execution_count": 21,
     "metadata": {},
     "output_type": "execute_result"
    }
   ],
   "source": [
    "np.arange(len(centers)) + 1"
   ]
  },
  {
   "cell_type": "code",
   "execution_count": 22,
   "metadata": {},
   "outputs": [],
   "source": [
    "#Isolate single bugs & recalculate centers\n",
    "\n",
    "watershed_center_list = []\n",
    "single_bug_list = []\n",
    "for point in np.unique(segmented):\n",
    "    #print(point)\n",
    "    ## add back in cylinder noise\n",
    "    single_bug = np.zeros(bug.shape, dtype=int)\n",
    "    bug_noise = np.random.randint(1, 4, bug.shape)\n",
    "    single_bug[bug!=0] = bug_noise[bug!=0]\n",
    "    single_bug[segmented==point] = bug[segmented==point]\n",
    "\n",
    "    single_bug_list += [single_bug]\n",
    "    \n",
    "    watershed_center = np.mean(np.where(single_bug!=0), axis=1).astype(int)\n",
    "    watershed_center_list += [watershed_center]\n"
   ]
  },
  {
   "cell_type": "code",
   "execution_count": 23,
   "metadata": {},
   "outputs": [
    {
     "data": {
      "text/plain": [
       "<Points layer 'validation centers' at 0x7fdb22d29640>"
      ]
     },
     "execution_count": 23,
     "metadata": {},
     "output_type": "execute_result"
    }
   ],
   "source": [
    "#Sanity check on new centers - roughly the same\n",
    "\n",
    "viewer = napari.view_image(\n",
    "    edges,\n",
    "    #contrast_limits=[0, 1],\n",
    "    #scale=spacing,\n",
    "    ndisplay=3,\n",
    "    opacity=0.2\n",
    ")\n",
    "\n",
    "viewer.add_labels(\n",
    "    segmented,\n",
    "    #scale=spacing,\n",
    "    opacity=0.2\n",
    ")\n",
    "\"\"\"\n",
    "for i in range(len(single_bug_list)):\n",
    "    viewer.add_image(\n",
    "        single_bug_list[i],\n",
    "        name=\"bug \"+str(i),\n",
    "    )\n",
    "\"\"\"\n",
    "viewer.add_points(\n",
    "    watershed_center_list,\n",
    "    name='watershed centers',\n",
    "    #scale=spacing,\n",
    "    size=4,\n",
    "    n_dimensional=True,  # points have 3D \"extent\"\n",
    "    edge_color = \"green\",\n",
    "    blending=\"translucent_no_depth\"\n",
    ")\n",
    "\n",
    "viewer.add_points(\n",
    "    centers,\n",
    "    name='HDBSCAN ' + str(mincs) + \" \" + str(minsa) + \" \" + str(csele) + \" \" + metri,\n",
    "    #scale=spacing,\n",
    "    size=4,\n",
    "    n_dimensional=True,  # points have 3D \"extent\"\n",
    "    edge_color = \"yellow\",\n",
    "    blending=\"translucent_no_depth\"\n",
    ")\n",
    "\n",
    "viewer.add_points(\n",
    "    validation_coordinates, #take coordinates from input\n",
    "    ndim=3,\n",
    "    name='validation centers',\n",
    "    #scale=spacing,\n",
    "    size=4,\n",
    "    n_dimensional=True, \n",
    "    edge_color='red',\n",
    "    blending=\"translucent_no_depth\"\n",
    ")"
   ]
  },
  {
   "cell_type": "code",
   "execution_count": 26,
   "metadata": {},
   "outputs": [],
   "source": [
    "#write bug segements to files\n",
    "if not os.path.exists(fp_starter + 'temp/'):\n",
    "    os.makedirs(fp_starter + 'temp/')\n",
    "if os.path.exists(fp_starter + 'temp/'+ chosen_image.split('.')[0]):\n",
    "    shutil.rmtree(fp_starter + 'temp/'+ chosen_image.split('.')[0])\n",
    "os.makedirs(fp_starter + 'temp/'+ chosen_image.split('.')[0])\n",
    "for i in range(len(single_bug_list)):\n",
    "    out_path = fp_starter + 'temp/'+ chosen_image.split('.')[0] + '/bug_' + str(i) +\".tif\"\n",
    "    #os.makedirs(fp_starter + 'temp/'+ chosen_image.split('.')[0])\n",
    "    tifffile.imsave(out_path, single_bug_list[i])"
   ]
  },
  {
   "cell_type": "code",
   "execution_count": 27,
   "metadata": {},
   "outputs": [
    {
     "ename": "FileNotFoundError",
     "evalue": "[Errno 2] No such file or directory: '/Users/johndriscoll/Debuggers/temp/mix_03_003/bug_10.tif'",
     "output_type": "error",
     "traceback": [
      "\u001b[0;31m---------------------------------------------------------------------------\u001b[0m",
      "\u001b[0;31mFileNotFoundError\u001b[0m                         Traceback (most recent call last)",
      "Cell \u001b[0;32mIn[27], line 1\u001b[0m\n\u001b[0;32m----> 1\u001b[0m bug \u001b[38;5;241m=\u001b[39m \u001b[43mio\u001b[49m\u001b[38;5;241;43m.\u001b[39;49m\u001b[43mimread\u001b[49m\u001b[43m(\u001b[49m\u001b[38;5;124;43m'\u001b[39;49m\u001b[38;5;124;43m/Users/johndriscoll/Debuggers/temp/mix_03_003/bug_10.tif\u001b[39;49m\u001b[38;5;124;43m'\u001b[39;49m\u001b[43m)\u001b[49m\n\u001b[1;32m      2\u001b[0m viewer \u001b[38;5;241m=\u001b[39m napari\u001b[38;5;241m.\u001b[39mview_image(\n\u001b[1;32m      3\u001b[0m     bug,\n\u001b[1;32m      4\u001b[0m     \u001b[38;5;66;03m#contrast_limits=[0, 1],\u001b[39;00m\n\u001b[0;32m   (...)\u001b[0m\n\u001b[1;32m      7\u001b[0m     opacity\u001b[38;5;241m=\u001b[39m\u001b[38;5;241m0.6\u001b[39m\n\u001b[1;32m      8\u001b[0m )\n",
      "File \u001b[0;32m~/opt/anaconda3/lib/python3.9/site-packages/skimage/io/_io.py:53\u001b[0m, in \u001b[0;36mimread\u001b[0;34m(fname, as_gray, plugin, **plugin_args)\u001b[0m\n\u001b[1;32m     50\u001b[0m         plugin \u001b[38;5;241m=\u001b[39m \u001b[38;5;124m'\u001b[39m\u001b[38;5;124mtifffile\u001b[39m\u001b[38;5;124m'\u001b[39m\n\u001b[1;32m     52\u001b[0m \u001b[38;5;28;01mwith\u001b[39;00m file_or_url_context(fname) \u001b[38;5;28;01mas\u001b[39;00m fname:\n\u001b[0;32m---> 53\u001b[0m     img \u001b[38;5;241m=\u001b[39m \u001b[43mcall_plugin\u001b[49m\u001b[43m(\u001b[49m\u001b[38;5;124;43m'\u001b[39;49m\u001b[38;5;124;43mimread\u001b[39;49m\u001b[38;5;124;43m'\u001b[39;49m\u001b[43m,\u001b[49m\u001b[43m \u001b[49m\u001b[43mfname\u001b[49m\u001b[43m,\u001b[49m\u001b[43m \u001b[49m\u001b[43mplugin\u001b[49m\u001b[38;5;241;43m=\u001b[39;49m\u001b[43mplugin\u001b[49m\u001b[43m,\u001b[49m\u001b[43m \u001b[49m\u001b[38;5;241;43m*\u001b[39;49m\u001b[38;5;241;43m*\u001b[39;49m\u001b[43mplugin_args\u001b[49m\u001b[43m)\u001b[49m\n\u001b[1;32m     55\u001b[0m \u001b[38;5;28;01mif\u001b[39;00m \u001b[38;5;129;01mnot\u001b[39;00m \u001b[38;5;28mhasattr\u001b[39m(img, \u001b[38;5;124m'\u001b[39m\u001b[38;5;124mndim\u001b[39m\u001b[38;5;124m'\u001b[39m):\n\u001b[1;32m     56\u001b[0m     \u001b[38;5;28;01mreturn\u001b[39;00m img\n",
      "File \u001b[0;32m~/opt/anaconda3/lib/python3.9/site-packages/skimage/io/manage_plugins.py:207\u001b[0m, in \u001b[0;36mcall_plugin\u001b[0;34m(kind, *args, **kwargs)\u001b[0m\n\u001b[1;32m    203\u001b[0m     \u001b[38;5;28;01mexcept\u001b[39;00m \u001b[38;5;167;01mIndexError\u001b[39;00m:\n\u001b[1;32m    204\u001b[0m         \u001b[38;5;28;01mraise\u001b[39;00m \u001b[38;5;167;01mRuntimeError\u001b[39;00m(\u001b[38;5;124m'\u001b[39m\u001b[38;5;124mCould not find the plugin \u001b[39m\u001b[38;5;124m\"\u001b[39m\u001b[38;5;132;01m%s\u001b[39;00m\u001b[38;5;124m\"\u001b[39m\u001b[38;5;124m for \u001b[39m\u001b[38;5;132;01m%s\u001b[39;00m\u001b[38;5;124m.\u001b[39m\u001b[38;5;124m'\u001b[39m \u001b[38;5;241m%\u001b[39m\n\u001b[1;32m    205\u001b[0m                            (plugin, kind))\n\u001b[0;32m--> 207\u001b[0m \u001b[38;5;28;01mreturn\u001b[39;00m \u001b[43mfunc\u001b[49m\u001b[43m(\u001b[49m\u001b[38;5;241;43m*\u001b[39;49m\u001b[43margs\u001b[49m\u001b[43m,\u001b[49m\u001b[43m \u001b[49m\u001b[38;5;241;43m*\u001b[39;49m\u001b[38;5;241;43m*\u001b[39;49m\u001b[43mkwargs\u001b[49m\u001b[43m)\u001b[49m\n",
      "File \u001b[0;32m~/opt/anaconda3/lib/python3.9/site-packages/skimage/io/_plugins/tifffile_plugin.py:30\u001b[0m, in \u001b[0;36mimread\u001b[0;34m(fname, **kwargs)\u001b[0m\n\u001b[1;32m     27\u001b[0m \u001b[38;5;28;01mif\u001b[39;00m \u001b[38;5;124m'\u001b[39m\u001b[38;5;124mimg_num\u001b[39m\u001b[38;5;124m'\u001b[39m \u001b[38;5;129;01min\u001b[39;00m kwargs:\n\u001b[1;32m     28\u001b[0m     kwargs[\u001b[38;5;124m'\u001b[39m\u001b[38;5;124mkey\u001b[39m\u001b[38;5;124m'\u001b[39m] \u001b[38;5;241m=\u001b[39m kwargs\u001b[38;5;241m.\u001b[39mpop(\u001b[38;5;124m'\u001b[39m\u001b[38;5;124mimg_num\u001b[39m\u001b[38;5;124m'\u001b[39m)\n\u001b[0;32m---> 30\u001b[0m \u001b[38;5;28;01mreturn\u001b[39;00m \u001b[43mtifffile_imread\u001b[49m\u001b[43m(\u001b[49m\u001b[43mfname\u001b[49m\u001b[43m,\u001b[49m\u001b[43m \u001b[49m\u001b[38;5;241;43m*\u001b[39;49m\u001b[38;5;241;43m*\u001b[39;49m\u001b[43mkwargs\u001b[49m\u001b[43m)\u001b[49m\n",
      "File \u001b[0;32m~/opt/anaconda3/lib/python3.9/site-packages/tifffile/tifffile.py:816\u001b[0m, in \u001b[0;36mimread\u001b[0;34m(files, aszarr, **kwargs)\u001b[0m\n\u001b[1;32m    813\u001b[0m     files \u001b[38;5;241m=\u001b[39m files[\u001b[38;5;241m0\u001b[39m]\n\u001b[1;32m    815\u001b[0m \u001b[38;5;28;01mif\u001b[39;00m \u001b[38;5;28misinstance\u001b[39m(files, (\u001b[38;5;28mstr\u001b[39m, os\u001b[38;5;241m.\u001b[39mPathLike)) \u001b[38;5;129;01mor\u001b[39;00m \u001b[38;5;28mhasattr\u001b[39m(files, \u001b[38;5;124m'\u001b[39m\u001b[38;5;124mseek\u001b[39m\u001b[38;5;124m'\u001b[39m):\n\u001b[0;32m--> 816\u001b[0m     \u001b[38;5;28;01mwith\u001b[39;00m \u001b[43mTiffFile\u001b[49m\u001b[43m(\u001b[49m\u001b[43mfiles\u001b[49m\u001b[43m,\u001b[49m\u001b[43m \u001b[49m\u001b[38;5;241;43m*\u001b[39;49m\u001b[38;5;241;43m*\u001b[39;49m\u001b[43mkwargs_file\u001b[49m\u001b[43m)\u001b[49m \u001b[38;5;28;01mas\u001b[39;00m tif:\n\u001b[1;32m    817\u001b[0m         \u001b[38;5;28;01mif\u001b[39;00m aszarr:\n\u001b[1;32m    818\u001b[0m             \u001b[38;5;28;01mreturn\u001b[39;00m tif\u001b[38;5;241m.\u001b[39maszarr(\u001b[38;5;241m*\u001b[39m\u001b[38;5;241m*\u001b[39mkwargs)\n",
      "File \u001b[0;32m~/opt/anaconda3/lib/python3.9/site-packages/tifffile/tifffile.py:3000\u001b[0m, in \u001b[0;36mTiffFile.__init__\u001b[0;34m(self, arg, mode, name, offset, size, _multifile, _useframes, _master, **kwargs)\u001b[0m\n\u001b[1;32m   2997\u001b[0m \u001b[38;5;28;01mif\u001b[39;00m mode \u001b[38;5;129;01mnot\u001b[39;00m \u001b[38;5;129;01min\u001b[39;00m (\u001b[38;5;28;01mNone\u001b[39;00m, \u001b[38;5;124m'\u001b[39m\u001b[38;5;124mrb\u001b[39m\u001b[38;5;124m'\u001b[39m, \u001b[38;5;124m'\u001b[39m\u001b[38;5;124mr+b\u001b[39m\u001b[38;5;124m'\u001b[39m):\n\u001b[1;32m   2998\u001b[0m     \u001b[38;5;28;01mraise\u001b[39;00m \u001b[38;5;167;01mValueError\u001b[39;00m(\u001b[38;5;124mf\u001b[39m\u001b[38;5;124m'\u001b[39m\u001b[38;5;124minvalid mode \u001b[39m\u001b[38;5;132;01m{\u001b[39;00mmode\u001b[38;5;132;01m!r}\u001b[39;00m\u001b[38;5;124m'\u001b[39m)\n\u001b[0;32m-> 3000\u001b[0m fh \u001b[38;5;241m=\u001b[39m \u001b[43mFileHandle\u001b[49m\u001b[43m(\u001b[49m\u001b[43marg\u001b[49m\u001b[43m,\u001b[49m\u001b[43m \u001b[49m\u001b[43mmode\u001b[49m\u001b[38;5;241;43m=\u001b[39;49m\u001b[43mmode\u001b[49m\u001b[43m,\u001b[49m\u001b[43m \u001b[49m\u001b[43mname\u001b[49m\u001b[38;5;241;43m=\u001b[39;49m\u001b[43mname\u001b[49m\u001b[43m,\u001b[49m\u001b[43m \u001b[49m\u001b[43moffset\u001b[49m\u001b[38;5;241;43m=\u001b[39;49m\u001b[43moffset\u001b[49m\u001b[43m,\u001b[49m\u001b[43m \u001b[49m\u001b[43msize\u001b[49m\u001b[38;5;241;43m=\u001b[39;49m\u001b[43msize\u001b[49m\u001b[43m)\u001b[49m\n\u001b[1;32m   3001\u001b[0m \u001b[38;5;28mself\u001b[39m\u001b[38;5;241m.\u001b[39m_fh \u001b[38;5;241m=\u001b[39m fh\n\u001b[1;32m   3002\u001b[0m \u001b[38;5;28mself\u001b[39m\u001b[38;5;241m.\u001b[39m_multifile \u001b[38;5;241m=\u001b[39m \u001b[38;5;28mbool\u001b[39m(_multifile)\n",
      "File \u001b[0;32m~/opt/anaconda3/lib/python3.9/site-packages/tifffile/tifffile.py:9537\u001b[0m, in \u001b[0;36mFileHandle.__init__\u001b[0;34m(self, file, mode, name, offset, size)\u001b[0m\n\u001b[1;32m   9535\u001b[0m \u001b[38;5;28mself\u001b[39m\u001b[38;5;241m.\u001b[39mis_file \u001b[38;5;241m=\u001b[39m \u001b[38;5;28;01mNone\u001b[39;00m\n\u001b[1;32m   9536\u001b[0m \u001b[38;5;28mself\u001b[39m\u001b[38;5;241m.\u001b[39m_lock \u001b[38;5;241m=\u001b[39m NullContext()\n\u001b[0;32m-> 9537\u001b[0m \u001b[38;5;28;43mself\u001b[39;49m\u001b[38;5;241;43m.\u001b[39;49m\u001b[43mopen\u001b[49m\u001b[43m(\u001b[49m\u001b[43m)\u001b[49m\n",
      "File \u001b[0;32m~/opt/anaconda3/lib/python3.9/site-packages/tifffile/tifffile.py:9550\u001b[0m, in \u001b[0;36mFileHandle.open\u001b[0;34m(self)\u001b[0m\n\u001b[1;32m   9548\u001b[0m \u001b[38;5;28mself\u001b[39m\u001b[38;5;241m.\u001b[39m_file \u001b[38;5;241m=\u001b[39m os\u001b[38;5;241m.\u001b[39mpath\u001b[38;5;241m.\u001b[39mrealpath(\u001b[38;5;28mself\u001b[39m\u001b[38;5;241m.\u001b[39m_file)\n\u001b[1;32m   9549\u001b[0m \u001b[38;5;28mself\u001b[39m\u001b[38;5;241m.\u001b[39m_dir, \u001b[38;5;28mself\u001b[39m\u001b[38;5;241m.\u001b[39m_name \u001b[38;5;241m=\u001b[39m os\u001b[38;5;241m.\u001b[39mpath\u001b[38;5;241m.\u001b[39msplit(\u001b[38;5;28mself\u001b[39m\u001b[38;5;241m.\u001b[39m_file)\n\u001b[0;32m-> 9550\u001b[0m \u001b[38;5;28mself\u001b[39m\u001b[38;5;241m.\u001b[39m_fh \u001b[38;5;241m=\u001b[39m \u001b[38;5;28;43mopen\u001b[39;49m\u001b[43m(\u001b[49m\u001b[38;5;28;43mself\u001b[39;49m\u001b[38;5;241;43m.\u001b[39;49m\u001b[43m_file\u001b[49m\u001b[43m,\u001b[49m\u001b[43m \u001b[49m\u001b[38;5;28;43mself\u001b[39;49m\u001b[38;5;241;43m.\u001b[39;49m\u001b[43m_mode\u001b[49m\u001b[43m)\u001b[49m\n\u001b[1;32m   9551\u001b[0m \u001b[38;5;28mself\u001b[39m\u001b[38;5;241m.\u001b[39m_close \u001b[38;5;241m=\u001b[39m \u001b[38;5;28;01mTrue\u001b[39;00m\n\u001b[1;32m   9552\u001b[0m \u001b[38;5;28;01mif\u001b[39;00m \u001b[38;5;28mself\u001b[39m\u001b[38;5;241m.\u001b[39m_offset \u001b[38;5;129;01mis\u001b[39;00m \u001b[38;5;28;01mNone\u001b[39;00m:\n",
      "\u001b[0;31mFileNotFoundError\u001b[0m: [Errno 2] No such file or directory: '/Users/johndriscoll/Debuggers/temp/mix_03_003/bug_10.tif'"
     ]
    }
   ],
   "source": [
    "bug = io.imread('/Users/johndriscoll/Debuggers/temp/mix_03_003/bug_10.tif')\n",
    "viewer = napari.view_image(\n",
    "    bug,\n",
    "    #contrast_limits=[0, 1],\n",
    "    #scale=spacing,\n",
    "    ndisplay=3,\n",
    "    opacity=0.6\n",
    ")"
   ]
  },
  {
   "cell_type": "code",
   "execution_count": 28,
   "metadata": {},
   "outputs": [
    {
     "data": {
      "text/plain": [
       "<Labels layer 'bug_zeros [1]' at 0x7fdb14b7e250>"
      ]
     },
     "execution_count": 28,
     "metadata": {},
     "output_type": "execute_result"
    }
   ],
   "source": [
    "bug_noise = np.random.randint(1, 4, bug.shape)\n",
    "bug_zeros = np.zeros(bug.shape, dtype=int)\n",
    "bug_zeros[bug!=0] = bug_noise[bug!=0]\n",
    "bug_zeros[segmented==point] = bug[segmented==point]\n",
    "\n",
    "viewer3 = napari.view_image(\n",
    "    bug_zeros,\n",
    "    ndisplay=3\n",
    ")\n",
    "viewer3.add_labels(\n",
    "    bug_zeros\n",
    ")\n"
   ]
  },
  {
   "cell_type": "code",
   "execution_count": null,
   "metadata": {},
   "outputs": [],
   "source": []
  }
 ],
 "metadata": {
  "kernelspec": {
   "display_name": "Python 3 (ipykernel)",
   "language": "python",
   "name": "python3"
  },
  "language_info": {
   "codemirror_mode": {
    "name": "ipython",
    "version": 3
   },
   "file_extension": ".py",
   "mimetype": "text/x-python",
   "name": "python",
   "nbconvert_exporter": "python",
   "pygments_lexer": "ipython3",
   "version": "3.9.13"
  }
 },
 "nbformat": 4,
 "nbformat_minor": 2
}
